{
  "nbformat": 4,
  "nbformat_minor": 0,
  "metadata": {
    "colab": {
      "provenance": []
    },
    "kernelspec": {
      "name": "python3",
      "display_name": "Python 3"
    },
    "language_info": {
      "name": "python"
    }
  },
  "cells": [
    {
      "cell_type": "markdown",
      "source": [
        "Enter your weight in either kgs or pounds and enter it's unit i.e. P for Pounds or K for Kgs (this is not case-sensitive)\n",
        "\n",
        "My Program will convert it."
      ],
      "metadata": {
        "id": "g19yZ5qMdx1f"
      }
    },
    {
      "cell_type": "code",
      "source": [
        "weight = int(input(\"Enter the weight: \"))\n",
        "unit = input(\"Enter unit of the weight P(for Pounds) or K(for Kilograms): \")\n",
        "\n",
        "if unit.upper() == \"P\":\n",
        "  print(f\"Your weight is: {weight*0.45} kilos\")\n",
        "else:\n",
        "  print(f\"Your weight is: {weight/0.45} pounds\")"
      ],
      "metadata": {
        "colab": {
          "base_uri": "https://localhost:8080/"
        },
        "id": "mmVwpRqEgBfW",
        "outputId": "45290a6c-1241-4fc4-8d87-ede21bcd73ad"
      },
      "execution_count": 10,
      "outputs": [
        {
          "output_type": "stream",
          "name": "stdout",
          "text": [
            "Enter the weight: 70\n",
            "Enter unit of the weight P(for Pounds) or K(for Kilograms): K\n",
            "Your weight is: 155.55555555555554 pounds\n"
          ]
        }
      ]
    }
  ]
}